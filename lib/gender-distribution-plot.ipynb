{
 "cells": [
  {
   "cell_type": "markdown",
   "metadata": {},
   "source": [
    "# Objective\n",
    "\n",
    "We aim to compare the structure of results and other key metrics across male and female categories. This analysis will allow us to identify any significant differences in performance and distribution between these groups, providing insights into gender-based trends.\n"
   ]
  },
  {
   "cell_type": "markdown",
   "metadata": {},
   "source": [
    "# Environment setup\n"
   ]
  },
  {
   "cell_type": "code",
   "execution_count": 2,
   "metadata": {},
   "outputs": [],
   "source": [
    "from data_source import DataSource\n",
    "from extractor import Extractor"
   ]
  },
  {
   "cell_type": "markdown",
   "metadata": {},
   "source": [
    "# Gender Repartition\n"
   ]
  },
  {
   "cell_type": "code",
   "execution_count": 3,
   "metadata": {},
   "outputs": [
    {
     "data": {
      "text/plain": [
       "213"
      ]
     },
     "execution_count": 3,
     "metadata": {},
     "output_type": "execute_result"
    }
   ],
   "source": [
    "# We extract data\n",
    "source = DataSource(\"./../data.json\")\n",
    "dataframe_list = source.filter([[], [], [], [], []], \"include\", None)\n",
    "extractor = Extractor(dataframe_list)\n",
    "athletes = extractor.all_athletes()\n",
    "athletes_data = {}\n",
    "for athlete in athletes:\n",
    "    athletes_data[athlete] = extractor.extract_athlete(athlete)\n",
    "\n",
    "len(athletes_data)"
   ]
  }
 ],
 "metadata": {
  "kernelspec": {
   "display_name": ".venv",
   "language": "python",
   "name": "python3"
  },
  "language_info": {
   "codemirror_mode": {
    "name": "ipython",
    "version": 3
   },
   "file_extension": ".py",
   "mimetype": "text/x-python",
   "name": "python",
   "nbconvert_exporter": "python",
   "pygments_lexer": "ipython3",
   "version": "3.12.7"
  }
 },
 "nbformat": 4,
 "nbformat_minor": 2
}
