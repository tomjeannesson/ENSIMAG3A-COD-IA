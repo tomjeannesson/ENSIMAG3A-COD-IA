{
 "cells": [
  {
   "cell_type": "markdown",
   "metadata": {},
   "source": [
    "# CLUSTERING\n",
    "\n",
    "The goal of this notebook is to clustering the dataset in order to find if we can group athlets in different categories/profile (jumper, sprinter, technician...). We will try differents cluster algorithms."
   ]
  },
  {
   "cell_type": "markdown",
   "metadata": {},
   "source": []
  }
 ],
 "metadata": {
  "language_info": {
   "name": "python"
  }
 },
 "nbformat": 4,
 "nbformat_minor": 2
}
